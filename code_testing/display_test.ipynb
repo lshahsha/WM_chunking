{
 "cells": [
  {
   "cell_type": "code",
   "execution_count": 1,
   "metadata": {},
   "outputs": [
    {
     "name": "stdout",
     "output_type": "stream",
     "text": [
      "pygame 2.0.1 (SDL 2.0.14, Python 3.8.9)\n",
      "Hello from the pygame community. https://www.pygame.org/contribute.html\n"
     ]
    }
   ],
   "source": [
    "# import libraries\n",
    "import os\n",
    "import pandas as pd\n",
    "import numpy as np\n",
    "import random\n",
    "import math\n",
    "import glob\n",
    "import sys\n",
    "\n",
    "from psychopy import visual, core, event, gui # data, logging"
   ]
  },
  {
   "cell_type": "code",
   "execution_count": 2,
   "metadata": {},
   "outputs": [
    {
     "name": "stdout",
     "output_type": "stream",
     "text": [
      "4 3 2 3 3 3\n"
     ]
    }
   ],
   "source": [
    "seq_length = 6\n",
    "seq_list = []\n",
    "for i in range(seq_length):\n",
    "    seq_list.append(str(random.randint(1, 4)))\n",
    "\n",
    "# concatenate the digits into one string without any spaces in between\n",
    "seq_str = ' '.join(seq_list)\n",
    "print(seq_str)"
   ]
  },
  {
   "cell_type": "code",
   "execution_count": 3,
   "metadata": {},
   "outputs": [
    {
     "name": "stdout",
     "output_type": "stream",
     "text": [
      "0\n",
      "the string is 4\n",
      "1\n",
      "the string is  \n",
      "2\n",
      "the string is 3\n",
      "3\n",
      "the string is  \n",
      "4\n",
      "the string is 2\n",
      "5\n",
      "the string is  \n",
      "6\n",
      "the string is 3\n",
      "7\n",
      "the string is  \n",
      "8\n",
      "the string is 3\n",
      "9\n",
      "the string is  \n",
      "10\n",
      "the string is 3\n"
     ]
    }
   ],
   "source": [
    "for i in range(0, len(seq_str)):\n",
    "    print(i)\n",
    "    print(f\"the string is {seq_str[i]}\")"
   ]
  },
  {
   "cell_type": "code",
   "execution_count": 7,
   "metadata": {},
   "outputs": [
    {
     "name": "stdout",
     "output_type": "stream",
     "text": [
      "['4', '3', '2', '3', '3', '3']\n",
      "0\n",
      "3\n",
      "['4 3 2', '3 3 3']\n"
     ]
    }
   ],
   "source": [
    "chunk = 3\n",
    "seq_list = seq_str.split(\" \")\n",
    "print(seq_list)\n",
    "for i in range(0, len(seq_list), chunk):\n",
    "    str_chunked_list = [' '.join(seq_list[i:i+chunk]) for i in range(0, len(seq_list), chunk)]\n",
    "# str_chunked = [seq_str[i:i+chunk-1] for i in range(0, len(seq_str), chunk)]\n",
    "print(str_chunked_list)\n"
   ]
  },
  {
   "cell_type": "code",
   "execution_count": null,
   "metadata": {},
   "outputs": [],
   "source": []
  }
 ],
 "metadata": {
  "interpreter": {
   "hash": "3c0c66331559b2d5bc3d44ff864ec1e755a4a122f5f5c88893222671a531d520"
  },
  "kernelspec": {
   "display_name": "Python 3.8.9 64-bit",
   "language": "python",
   "name": "python3"
  },
  "language_info": {
   "codemirror_mode": {
    "name": "ipython",
    "version": 3
   },
   "file_extension": ".py",
   "mimetype": "text/x-python",
   "name": "python",
   "nbconvert_exporter": "python",
   "pygments_lexer": "ipython3",
   "version": "3.8.9"
  },
  "orig_nbformat": 4
 },
 "nbformat": 4,
 "nbformat_minor": 2
}
