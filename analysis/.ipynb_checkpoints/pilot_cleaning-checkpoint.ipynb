{
 "cells": [
  {
   "cell_type": "code",
   "execution_count": 1,
   "id": "0dde83c6",
   "metadata": {},
   "outputs": [],
   "source": [
    "import numpy as np\n",
    "import pandas as pd\n",
    "import os"
   ]
  },
  {
   "cell_type": "code",
   "execution_count": 2,
   "id": "a8662eba",
   "metadata": {},
   "outputs": [],
   "source": [
    "base_dir = 'C:\\\\Users\\\\khash\\\\OneDrive\\\\Documents\\\\GitHub\\\\WM_chunking\\\\data\\\\behavioural\\\\raw'\n",
    "subjects = ['s10', 's12', 'jk']"
   ]
  },
  {
   "cell_type": "markdown",
   "id": "ef15658a",
   "metadata": {},
   "source": [
    "# Data cleaning"
   ]
  },
  {
   "cell_type": "code",
   "execution_count": 65,
   "id": "2adce721",
   "metadata": {},
   "outputs": [],
   "source": [
    "def clean_df_pilot(subject_list):\n",
    "    # loop over subjects\n",
    "    for subject in subject_list:\n",
    "        print(f'cleaning up {subject}')\n",
    "        # get subject directory\n",
    "        subj_dir = os.path.join(base_dir, subject)\n",
    "        # load the dataframe\n",
    "        df_sub = pd.read_csv(os.path.join(subj_dir, f'WMC_{subject}.csv'))\n",
    "        \n",
    "        # deleting the Unnamed columns\n",
    "        ## get all the columns with Unnamed \n",
    "        filter_col = [col for col in df_sub if col.startswith('Unnamed')]\n",
    "        ## drop all the unnamed columns\n",
    "        df_sub = df_sub.drop(filter_col, axis = 1)\n",
    "        \n",
    "        # loop over runs and add a column representing the trial number\n",
    "        runs = np.unique(df_sub.run_number.values)\n",
    "        df = pd.DataFrame()\n",
    "        for r in runs:\n",
    "            # get the section of the dataframe corresponding to the current run\n",
    "            df_run = df_sub.loc[df_sub.run_number == r]\n",
    "            TN_value = np.arange(0, len(df_run.index))\n",
    "            df_run.insert(loc = 0, column='TN', value=TN_value)\n",
    "            df = pd.concat([df, df_run])\n",
    "            \n",
    "        # save the dataframe\n",
    "        df.to_csv(os.path.join(subj_dir, f'WMC_{subject}_clean.csv'), index = False)\n",
    "        \n",
    "    return"
   ]
  },
  {
   "cell_type": "code",
   "execution_count": 66,
   "id": "ae2aa93d",
   "metadata": {},
   "outputs": [
    {
     "name": "stdout",
     "output_type": "stream",
     "text": [
      "cleaning up s10\n",
      "cleaning up s12\n",
      "cleaning up jk\n"
     ]
    }
   ],
   "source": [
    "# use the function to clean up the data\n",
    "clean_df_pilot(subjects)"
   ]
  },
  {
   "cell_type": "code",
   "execution_count": null,
   "id": "d4de1574",
   "metadata": {},
   "outputs": [],
   "source": []
  }
 ],
 "metadata": {
  "kernelspec": {
   "display_name": "Python 3 (ipykernel)",
   "language": "python",
   "name": "python3"
  },
  "language_info": {
   "codemirror_mode": {
    "name": "ipython",
    "version": 3
   },
   "file_extension": ".py",
   "mimetype": "text/x-python",
   "name": "python",
   "nbconvert_exporter": "python",
   "pygments_lexer": "ipython3",
   "version": "3.9.5"
  }
 },
 "nbformat": 4,
 "nbformat_minor": 5
}
