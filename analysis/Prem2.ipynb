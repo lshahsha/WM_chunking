{
 "cells": [
  {
   "cell_type": "code",
   "execution_count": 1,
   "id": "e9f55aba",
   "metadata": {},
   "outputs": [],
   "source": [
    "import pandas as pd\n",
    "import numpy as np\n",
    "import matplotlib.pyplot as plt\n",
    "from ast import literal_eval\n",
    "import seaborn as sns\n",
    "import os\n",
    "from statsmodels.stats.weightstats import ttest_ind as t\n",
    "from statsmodels.stats.anova import AnovaRM\n",
    "from scipy.stats import ttest_rel"
   ]
  },
  {
   "cell_type": "code",
   "execution_count": 2,
   "id": "3a41f0b4",
   "metadata": {},
   "outputs": [],
   "source": [
    "# setting directories\n",
    "## change this to the directory where you have stored the data for the project\n",
    "base_dir = \"C:\\\\Users\\\\khash\\\\OneDrive\\\\Documents\\\\GitHub\\\\WM_chunking\"\n",
    "behav_dir = os.path.join(base_dir, \"data\", \"behavioural\", \"raw\")\n",
    "\n",
    "# setting some default variables\n",
    "return_subjs = [\"s10\", \"s11\", \"s12\", \"s14\", \"s15\", \"s16\", \"s17\", \"s18\", \"s19\", \"s20\", \"s21\", \"s22\", \"s23\", \"s24\", \"s25\"]"
   ]
  },
  {
   "cell_type": "code",
   "execution_count": 3,
   "id": "f54c6b30",
   "metadata": {},
   "outputs": [],
   "source": [
    "def clean_df(subject):\n",
    "    \"\"\"\n",
    "    Takes in the subject name and does initial cleaning (removes unwanted columns)\n",
    "    Args:\n",
    "        subject (str) - name assigned to the subject \n",
    "    \"\"\"\n",
    "    \n",
    "    # get subject directory\n",
    "    subj_dir = os.path.join(behav_dir, subject)\n",
    "    # load the dataframe\n",
    "    df_sub = pd.read_csv(os.path.join(subj_dir, f'WMC_{subject}.csv'), converters={'response_time': pd.eval})\n",
    "    \n",
    "    # deleting the Unnamed columns\n",
    "    ## get all the columns with Unnamed \n",
    "    filter_col = [col for col in df_sub if col.startswith('Unnamed')]\n",
    "    ## drop all the unnamed columns\n",
    "    df_sub = df_sub.drop(filter_col, axis = 1)\n",
    "    \n",
    "    # loop over runs and add a column representing the trial number\n",
    "    runs = np.unique(df_sub.run_number.values)\n",
    "    df = pd.DataFrame()\n",
    "    for r in runs:\n",
    "        # get the section of the dataframe corresponding to the current run\n",
    "        df_run = df_sub.loc[df_sub.run_number == r].copy()\n",
    "        df_run.reset_index(drop = True, inplace = True)\n",
    "        TN_value = np.arange(0, len(df_run.index))\n",
    "        df_run.insert(loc = 0, column='TN', value=TN_value)\n",
    "        # calculate reaction times for each trial\n",
    "        rt = []\n",
    "        rt.append(np.nan)\n",
    "        rt.append(df_run[\"response_time\"][1][0] - 6.5)\n",
    "        for t in df_run.index[2:]:\n",
    "            \n",
    "            if len(df_run[\"response_time\"][t]) == 0:\n",
    "                rt.append(np.nan)\n",
    "            else:\n",
    "                ipi_0 = df_run[\"response_time\"][t][0] - (df_run['response_time'][t-2][5] + 6 + 0.5)\n",
    "                if ipi_0 <0:\n",
    "                    ipi_0 = np.nan\n",
    "                rt.append(ipi_0)\n",
    "                \n",
    "        df_run.loc[:, \"ipi_0\"] = rt\n",
    "\n",
    "        df = pd.concat([df, df_run])      \n",
    "    return df\n",
    "\n",
    "def merge_df(subject_list):\n",
    "    \"\"\"\n",
    "    takes in a list of subjects and merge their behavioural data into 1 dataframe\n",
    "    Args: \n",
    "        subject_list (list) - list containing names assigned to subjects\n",
    "        \n",
    "    returns:\n",
    "        merged_df (pd.DataFrame) -  a dataframe with merged data for all the subjects\n",
    "    \"\"\"\n",
    "    \n",
    "    df_list = []\n",
    "    i = 0\n",
    "    for s in subject_list:\n",
    "        \n",
    "        # clean the subject data\n",
    "        df_subject = clean_df(s)\n",
    "        \n",
    "        # add a column to the dataframe containing the subject name\n",
    "        df_subject[\"subject\"] = i\n",
    "        \n",
    "        # append it to the dataframes list\n",
    "        df_list.append(df_subject)\n",
    "        \n",
    "        i = i+1\n",
    "        \n",
    "    # merge dataframe\n",
    "    merged_df = pd.concat(df_list, axis = 0, ignore_index = True)\n",
    "    \n",
    "    ## drop 1234 column (not all subjects have that)\n",
    "    merged_df = merged_df.drop(['1234'], axis = 1)\n",
    "    \n",
    "    return merged_df\n",
    "#____________________________________________________________________________________________\n",
    "# calculate reaction times and inter-press-intervales\n",
    "def calc_rt(data):\n",
    "    \"\"\"\n",
    "    calculates reaction time (time of the first press)\n",
    "    \"\"\"\n",
    "    return\n",
    "\n",
    "def calc_ipi(data):\n",
    "    \"\"\"\n",
    "    calculates inter-press-intervals and returns a specific dataframe to plot the ipis\n",
    "    Args:\n",
    "        data (pd.DataFrame) - the dataframe with all the data (can be a subject's dataframe or the merged dataframe)\n",
    "    Returns:\n",
    "        data_ipi (pd.DataFrame) - the dataframe to be used for analysis of ipis\n",
    "    \"\"\"\n",
    "    # get execution trials\n",
    "    data_exe = data.loc[data[\"phase_type\"] == 1]  \n",
    "    # get the response times\n",
    "    response_times = data_exe[\"response_time\"]\n",
    "    response_times = response_times.values.tolist()\n",
    "    response_times = np.array(response_times)\n",
    "    # calculate ipis for each trial\n",
    "    ipis = np.diff(response_times)\n",
    "    \n",
    "    # convert ipis to a temporary dataframe and append it to the original dataframe\n",
    "    df_ipis = pd.DataFrame(ipis, columns = [1, 2, 3, 4, 5])\n",
    "    # reset indices before merging\n",
    "    df_ipis.reset_index(drop = True, inplace = True)\n",
    "    data_exe.reset_index(drop = True, inplace = True)\n",
    "    \n",
    "    # joing the two dataframes\n",
    "    data_exe = data_exe.join(df_ipis) \n",
    "    \n",
    "    data_tmp = data_exe[['subject', 1, 2, 3, 4, 5, 'chunk', 'recall_dir']]\n",
    "    data_ipi = pd.melt(data_tmp, id_vars=['subject', 'chunk', 'recall_dir'], value_vars=[1, 2, 3, 4, 5])\n",
    "    data_ipi = data_ipi.rename(columns={'variable': 'ipi', 'value': 'time'})\n",
    "    data_ipi.time = data_ipi.time.astype(float)\n",
    "    return data_ipi\n",
    "#____________________________________________________________________________________________\n",
    "# calculate accuracy and error-rate for each serial place\n",
    "def calc_acc(data):\n",
    "    return\n",
    "def calc_acc_serial(data):\n",
    "    return\n",
    "#____________________________________________________________________________________________"
   ]
  },
  {
   "cell_type": "code",
   "execution_count": 4,
   "id": "c6fc54b6",
   "metadata": {},
   "outputs": [],
   "source": [
    "df_final = merge_df(return_subjs)"
   ]
  },
  {
   "cell_type": "code",
   "execution_count": 5,
   "id": "89b18f2a",
   "metadata": {},
   "outputs": [],
   "source": [
    "#Get run number\n",
    "run_tra = np.repeat(0,16)\n",
    "x2=[1,2,3,4,5,6,7,8]\n",
    "run_exp = np.repeat(x2,24)\n",
    "run = np.concatenate((run_tra, run_exp))\n",
    "run_num = np.tile(run, 15)\n",
    "df_final['run_num'] = run_num"
   ]
  },
  {
   "cell_type": "code",
   "execution_count": 6,
   "id": "1bbc27f0",
   "metadata": {},
   "outputs": [],
   "source": [
    "#Get accuracy based on points\n",
    "df_final['points'] = df_final['points'].replace(10, 6)\n",
    "accuracy = ((df_final['points']/6)*100)\n",
    "df_final['%_ACC']= accuracy\n",
    "df_final.to_csv(r\"C:\\Users\\khash\\OneDrive\\Documents\\GitHub\\WM_chunking\\data\\behavioural\\raw\\Final_data.csv\")"
   ]
  },
  {
   "cell_type": "code",
   "execution_count": 7,
   "id": "e9f74236",
   "metadata": {},
   "outputs": [],
   "source": [
    "#Exclude training, incorrect trials, encoding phase\n",
    "\n",
    "df = df_final.loc[(df_final['phase_type'] == 1) & (df_final['is_error'] == False) & (df_final['run_num'] != 0)]\n",
    "aa = calc_ipi(df)\n",
    "aa_bw = aa.loc[aa.recall_dir == 0]\n",
    "aa_fw = aa.loc[aa.recall_dir == 1]"
   ]
  },
  {
   "cell_type": "code",
   "execution_count": 8,
   "id": "ced502d0",
   "metadata": {},
   "outputs": [
    {
     "data": {
      "text/html": [
       "<div>\n",
       "<style scoped>\n",
       "    .dataframe tbody tr th:only-of-type {\n",
       "        vertical-align: middle;\n",
       "    }\n",
       "\n",
       "    .dataframe tbody tr th {\n",
       "        vertical-align: top;\n",
       "    }\n",
       "\n",
       "    .dataframe thead th {\n",
       "        text-align: right;\n",
       "    }\n",
       "</style>\n",
       "<table border=\"1\" class=\"dataframe\">\n",
       "  <thead>\n",
       "    <tr style=\"text-align: right;\">\n",
       "      <th></th>\n",
       "      <th>subject</th>\n",
       "      <th>chunk</th>\n",
       "      <th>recall_dir</th>\n",
       "      <th>ipi</th>\n",
       "      <th>time</th>\n",
       "    </tr>\n",
       "  </thead>\n",
       "  <tbody>\n",
       "    <tr>\n",
       "      <th>1</th>\n",
       "      <td>0</td>\n",
       "      <td>2</td>\n",
       "      <td>0</td>\n",
       "      <td>1</td>\n",
       "      <td>0.463966</td>\n",
       "    </tr>\n",
       "    <tr>\n",
       "      <th>3</th>\n",
       "      <td>0</td>\n",
       "      <td>2</td>\n",
       "      <td>0</td>\n",
       "      <td>1</td>\n",
       "      <td>1.095934</td>\n",
       "    </tr>\n",
       "    <tr>\n",
       "      <th>8</th>\n",
       "      <td>0</td>\n",
       "      <td>2</td>\n",
       "      <td>0</td>\n",
       "      <td>1</td>\n",
       "      <td>0.207909</td>\n",
       "    </tr>\n",
       "    <tr>\n",
       "      <th>13</th>\n",
       "      <td>0</td>\n",
       "      <td>2</td>\n",
       "      <td>0</td>\n",
       "      <td>1</td>\n",
       "      <td>0.879909</td>\n",
       "    </tr>\n",
       "    <tr>\n",
       "      <th>16</th>\n",
       "      <td>0</td>\n",
       "      <td>2</td>\n",
       "      <td>0</td>\n",
       "      <td>1</td>\n",
       "      <td>0.208453</td>\n",
       "    </tr>\n",
       "    <tr>\n",
       "      <th>...</th>\n",
       "      <td>...</td>\n",
       "      <td>...</td>\n",
       "      <td>...</td>\n",
       "      <td>...</td>\n",
       "      <td>...</td>\n",
       "    </tr>\n",
       "    <tr>\n",
       "      <th>4580</th>\n",
       "      <td>14</td>\n",
       "      <td>2</td>\n",
       "      <td>0</td>\n",
       "      <td>5</td>\n",
       "      <td>0.175827</td>\n",
       "    </tr>\n",
       "    <tr>\n",
       "      <th>4586</th>\n",
       "      <td>14</td>\n",
       "      <td>2</td>\n",
       "      <td>0</td>\n",
       "      <td>5</td>\n",
       "      <td>0.311951</td>\n",
       "    </tr>\n",
       "    <tr>\n",
       "      <th>4588</th>\n",
       "      <td>14</td>\n",
       "      <td>2</td>\n",
       "      <td>0</td>\n",
       "      <td>5</td>\n",
       "      <td>0.296034</td>\n",
       "    </tr>\n",
       "    <tr>\n",
       "      <th>4592</th>\n",
       "      <td>14</td>\n",
       "      <td>2</td>\n",
       "      <td>0</td>\n",
       "      <td>5</td>\n",
       "      <td>0.239906</td>\n",
       "    </tr>\n",
       "    <tr>\n",
       "      <th>4595</th>\n",
       "      <td>14</td>\n",
       "      <td>2</td>\n",
       "      <td>0</td>\n",
       "      <td>5</td>\n",
       "      <td>0.263897</td>\n",
       "    </tr>\n",
       "  </tbody>\n",
       "</table>\n",
       "<p>990 rows × 5 columns</p>\n",
       "</div>"
      ],
      "text/plain": [
       "      subject  chunk  recall_dir ipi      time\n",
       "1           0      2           0   1  0.463966\n",
       "3           0      2           0   1  1.095934\n",
       "8           0      2           0   1  0.207909\n",
       "13          0      2           0   1  0.879909\n",
       "16          0      2           0   1  0.208453\n",
       "...       ...    ...         ...  ..       ...\n",
       "4580       14      2           0   5  0.175827\n",
       "4586       14      2           0   5  0.311951\n",
       "4588       14      2           0   5  0.296034\n",
       "4592       14      2           0   5  0.239906\n",
       "4595       14      2           0   5  0.263897\n",
       "\n",
       "[990 rows x 5 columns]"
      ]
     },
     "metadata": {},
     "output_type": "display_data"
    }
   ],
   "source": [
    "aa_bw_2 = aa_bw.loc[aa_bw.chunk == 2]\n",
    "display(aa_bw_2)\n",
    "results = ttest_rel(aa_bw_2.loc[aa_bw_2.ipi == 2], aa_bw_2.loc[aa_bw_2.ipi == 4], nan_policy = 'omit')"
   ]
  },
  {
   "cell_type": "code",
   "execution_count": 9,
   "id": "5df2f0c6",
   "metadata": {},
   "outputs": [],
   "source": [
    "df_acc = df_final.loc[(df_final['run_num'] != 0) & (df_final['phase_type'] == 1)]\n",
    "df_acc2 = df_final.loc[(df_final['phase_type'] == 1)]"
   ]
  },
  {
   "cell_type": "code",
   "execution_count": 10,
   "id": "349ed120",
   "metadata": {},
   "outputs": [
    {
     "data": {
      "image/png": "[encoded data removed]",
      "text/plain": [
       "<Figure size 432x288 with 1 Axes>"
      ]
     },
     "metadata": {
      "needs_background": "light"
     },
     "output_type": "display_data"
    }
   ],
   "source": [
    "sns.lineplot(x=\"chunk\", y=\"%_ACC\", hue=\"recall_dir\", data= df_acc)\n",
    "plt.xlabel(r'Chunking Strategy', fontsize=9)\n",
    "plt.ylabel(r'Mean Accuracy(%)', fontsize=9)\n",
    "plt.ylim(75, 100)\n",
    "plt.xlim(2,3)\n",
    "plt.autoscale(enable=True, axis='x', tight=False)\n",
    "plt.locator_params(axis='x', nbins=1)\n",
    "plt.savefig(r\"C:\\Users\\khash\\OneDrive\\Documents\\GitHub\\WM_chunking\\analysis\\Line_AC.pdf\", dpi=600)"
   ]
  },
  {
   "cell_type": "code",
   "execution_count": 11,
   "id": "dfce9250",
   "metadata": {},
   "outputs": [
    {
     "name": "stdout",
     "output_type": "stream",
     "text": [
      "                    Anova\n",
      "==============================================\n",
      "                 F Value Num DF  Den DF Pr > F\n",
      "----------------------------------------------\n",
      "chunk             0.2469 1.0000 14.0000 0.6269\n",
      "recall_dir       20.7987 1.0000 14.0000 0.0004\n",
      "chunk:recall_dir  2.4249 1.0000 14.0000 0.1417\n",
      "==============================================\n",
      "\n"
     ]
    }
   ],
   "source": [
    "aovrm = AnovaRM(df_acc, '%_ACC', 'subject', within=['chunk', 'recall_dir'], aggregate_func='mean')\n",
    "res = aovrm.fit()\n",
    "print(res)"
   ]
  },
  {
   "cell_type": "code",
   "execution_count": 12,
   "id": "4f639ace",
   "metadata": {},
   "outputs": [],
   "source": [
    "#df_acc_fw_2 = df_acc.loc[(df_acc['recall_dir'] == '1') & (df_acc['chunk'] == '2')]\n",
    "#df_acc_fw_3 = df_acc.loc[(df_acc['recall_dir'] == '1') & (df_acc['chunk'] == '3')]\n",
    "#df_acc_bw_2 = df_acc.loc[(df_acc['recall_dir'] == '0') & (df_acc['chunk'] == '2')]\n",
    "#df_acc_bw_3 = df_acc.loc[(df_acc['recall_dir'] == '0') & (df_acc['chunk'] == '3')]\n",
    "#print(t(df_acc_fw_2, df_acc_fw_3, alternative='two-sided', usevar='pooled', weights=(None, None), value=0))"
   ]
  },
  {
   "cell_type": "code",
   "execution_count": 13,
   "id": "e0acd1f4",
   "metadata": {},
   "outputs": [
    {
     "data": {
      "image/png": "[encoded data removed]",
      "text/plain": [
       "<Figure size 432x288 with 1 Axes>"
      ]
     },
     "metadata": {
      "needs_background": "light"
     },
     "output_type": "display_data"
    }
   ],
   "source": [
    "fig, ax = plt.subplots()\n",
    "sns.barplot(x=\"run_num\", y=\"%_ACC\", hue=\"recall_dir\", capsize=0.15, data= df_acc)\n",
    "plt.xlabel(r'Run Number', fontsize=9)\n",
    "plt.ylabel(r'Mean Accuracy(%)', fontsize=9)\n",
    "plt.ylim(70, 100)\n",
    "plt.xlim(2,3)\n",
    "plt.autoscale(enable=True, axis='x', tight=False)\n",
    "plt.savefig(r\"C:\\Users\\khash\\OneDrive\\Documents\\GitHub\\WM_chunking\\analysis\\Accuracy_run.pdf\", dpi=600)\n",
    "\n",
    "C2_BW_i1 = aa.loc[(aa['chunk'] == 2) & (aa['recall_dir'] == 0) & (aa['ipi'] == 'ipi_1'), ['time']]\n",
    "C2_BW_i2 = aa.loc[(aa['chunk'] == 2) & (aa['recall_dir'] == 0) & (aa['ipi'] == 'ipi_2'), ['time']]\n",
    "C2_BW_i3 = aa.loc[(aa['chunk'] == 2) & (aa['recall_dir'] == 0) & (aa['ipi'] == 'ipi_3'), ['time']]\n",
    "C2_BW_i4 = aa.loc[(aa['chunk'] == 2) & (aa['recall_dir'] == 0) & (aa['ipi'] == 'ipi_4'), ['time']]\n",
    "C2_BW_i5 = aa.loc[(aa['chunk'] == 2) & (aa['recall_dir'] == 0) & (aa['ipi'] == 'ipi_5'), ['time']]\n",
    "\n",
    "C2_FW_i1 = aa.loc[(aa['chunk'] == 2) & (aa['recall_dir'] == 1) & (aa['ipi'] == 'ipi_1'), ['time']]\n",
    "C2_FW_i2 = aa.loc[(aa['chunk'] == 2) & (aa['recall_dir'] == 1) & (aa['ipi'] == 'ipi_2'), ['time']]\n",
    "C2_FW_i3 = aa.loc[(aa['chunk'] == 2) & (aa['recall_dir'] == 1) & (aa['ipi'] == 'ipi_3'), ['time']]\n",
    "C2_FW_i4 = aa.loc[(aa['chunk'] == 2) & (aa['recall_dir'] == 1) & (aa['ipi'] == 'ipi_4'), ['time']]\n",
    "C2_FW_i5 = aa.loc[(aa['chunk'] == 2) & (aa['recall_dir'] == 1) & (aa['ipi'] == 'ipi_5'), ['time']]\n",
    "\n",
    "C3_BW_i1 = aa.loc[(aa['chunk'] == 3) & (aa['recall_dir'] == 0) & (aa['ipi'] == 'ipi_1'), ['time']]\n",
    "C3_BW_i2 = aa.loc[(aa['chunk'] == 3) & (aa['recall_dir'] == 0) & (aa['ipi'] == 'ipi_2'), ['time']]\n",
    "C3_BW_i3 = aa.loc[(aa['chunk'] == 3) & (aa['recall_dir'] == 0) & (aa['ipi'] == 'ipi_3'), ['time']]\n",
    "C3_BW_i4 = aa.loc[(aa['chunk'] == 3) & (aa['recall_dir'] == 0) & (aa['ipi'] == 'ipi_4'), ['time']]\n",
    "C3_BW_i5 = aa.loc[(aa['chunk'] == 3) & (aa['recall_dir'] == 0) & (aa['ipi'] == 'ipi_5'), ['time']]\n",
    "\n",
    "C3_FW_i1 = aa.loc[(aa['chunk'] == 3) & (aa['recall_dir'] == 1) & (aa['ipi'] == 'ipi_1'), ['time']]\n",
    "C3_FW_i2 = aa.loc[(aa['chunk'] == 3) & (aa['recall_dir'] == 1) & (aa['ipi'] == 'ipi_2'), ['time']]\n",
    "C3_FW_i3 = aa.loc[(aa['chunk'] == 3) & (aa['recall_dir'] == 1) & (aa['ipi'] == 'ipi_3'), ['time']]\n",
    "C3_FW_i4 = aa.loc[(aa['chunk'] == 3) & (aa['recall_dir'] == 1) & (aa['ipi'] == 'ipi_4'), ['time']]\n",
    "C3_FW_i5 = aa.loc[(aa['chunk'] == 3) & (aa['recall_dir'] == 1) & (aa['ipi'] == 'ipi_5'), ['time']]"
   ]
  },
  {
   "cell_type": "code",
   "execution_count": 14,
   "id": "ce6eec6f",
   "metadata": {},
   "outputs": [
    {
     "data": {
      "image/png": "[encoded data removed]",
      "text/plain": [
       "<Figure size 432x288 with 1 Axes>"
      ]
     },
     "metadata": {
      "needs_background": "light"
     },
     "output_type": "display_data"
    }
   ],
   "source": [
    "fig, ax = plt.subplots()\n",
    "sns.barplot(x=\"run_num\", y=\"MT\", hue=\"recall_dir\",capsize=0.15, data= df_final)\n",
    "plt.xlabel(r'Run Number', fontsize=9)\n",
    "plt.ylabel(r'Mean Movement Time (sec)', fontsize=9)\n",
    "plt.ylim(0, 4)\n",
    "plt.xlim(2,3)\n",
    "plt.autoscale(enable=True, axis='x', tight=False)\n",
    "plt.savefig(r\"C:\\Users\\khash\\OneDrive\\Documents\\GitHub\\WM_chunking\\analysis\\MT_run.pdf\", dpi=600)"
   ]
  },
  {
   "cell_type": "code",
   "execution_count": 15,
   "id": "81e73d98",
   "metadata": {},
   "outputs": [],
   "source": [
    "Chunk2 = aa.loc[(aa['chunk'] == 2)  , ['subject', 'chunk', 'recall_dir', 'ipi','time']]\n",
    "Chunk3 = aa.loc[(aa['chunk'] == 3)  , ['subject', 'chunk', 'recall_dir', 'ipi','time']]\n",
    "\n",
    "C2_BW_i1 = aa.loc[(aa['chunk'] == 2) & (aa['recall_dir'] == 0) & (aa['ipi'] == 1), ['time']]\n",
    "C2_BW_i2 = aa.loc[(aa['chunk'] == 2) & (aa['recall_dir'] == 0) & (aa['ipi'] == 2), ['time']]\n",
    "C2_BW_i3 = aa.loc[(aa['chunk'] == 2) & (aa['recall_dir'] == 0) & (aa['ipi'] == 3), ['time']]\n",
    "C2_BW_i4 = aa.loc[(aa['chunk'] == 2) & (aa['recall_dir'] == 0) & (aa['ipi'] == 4), ['time']]\n",
    "C2_BW_i5 = aa.loc[(aa['chunk'] == 2) & (aa['recall_dir'] == 0) & (aa['ipi'] == 5), ['time']]\n",
    "\n",
    "C2_FW_i1 = aa.loc[(aa['chunk'] == 2) & (aa['recall_dir'] == 1) & (aa['ipi'] == 1), ['time']]\n",
    "C2_FW_i2 = aa.loc[(aa['chunk'] == 2) & (aa['recall_dir'] == 1) & (aa['ipi'] == 2), ['time']]\n",
    "C2_FW_i3 = aa.loc[(aa['chunk'] == 2) & (aa['recall_dir'] == 1) & (aa['ipi'] == 3), ['time']]\n",
    "C2_FW_i4 = aa.loc[(aa['chunk'] == 2) & (aa['recall_dir'] == 1) & (aa['ipi'] == 4), ['time']]\n",
    "C2_FW_i5 = aa.loc[(aa['chunk'] == 2) & (aa['recall_dir'] == 1) & (aa['ipi'] == 5), ['time']]\n",
    "\n",
    "C3_BW_i1 = aa.loc[(aa['chunk'] == 3) & (aa['recall_dir'] == 0) & (aa['ipi'] == 1), ['time']]\n",
    "C3_BW_i2 = aa.loc[(aa['chunk'] == 3) & (aa['recall_dir'] == 0) & (aa['ipi'] == 2), ['time']]\n",
    "C3_BW_i3 = aa.loc[(aa['chunk'] == 3) & (aa['recall_dir'] == 0) & (aa['ipi'] == 3), ['time']]\n",
    "C3_BW_i4 = aa.loc[(aa['chunk'] == 3) & (aa['recall_dir'] == 0) & (aa['ipi'] == 4), ['time']]\n",
    "C3_BW_i5 = aa.loc[(aa['chunk'] == 3) & (aa['recall_dir'] == 0) & (aa['ipi'] == 5), ['time']]\n",
    "\n",
    "C3_FW_i1 = aa.loc[(aa['chunk'] == 3) & (aa['recall_dir'] == 1) & (aa['ipi'] == 1), ['time']]\n",
    "C3_FW_i2 = aa.loc[(aa['chunk'] == 3) & (aa['recall_dir'] == 1) & (aa['ipi'] == 2), ['time']]\n",
    "C3_FW_i3 = aa.loc[(aa['chunk'] == 3) & (aa['recall_dir'] == 1) & (aa['ipi'] == 3), ['time']]\n",
    "C3_FW_i4 = aa.loc[(aa['chunk'] == 3) & (aa['recall_dir'] == 1) & (aa['ipi'] == 4), ['time']]\n",
    "C3_FW_i5 = aa.loc[(aa['chunk'] == 3) & (aa['recall_dir'] == 1) & (aa['ipi'] == 5), ['time']]"
   ]
  },
  {
   "cell_type": "code",
   "execution_count": 16,
   "id": "935995a8",
   "metadata": {},
   "outputs": [
    {
     "data": {
      "image/png": "[encoded data removed]",
      "text/plain": [
       "<Figure size 720x360 with 2 Axes>"
      ]
     },
     "metadata": {
      "needs_background": "light"
     },
     "output_type": "display_data"
    }
   ],
   "source": [
    "figure, axes = plt.subplots(1, 2, sharex=True, sharey=True, figsize=(10, 5))\n",
    "sns.lineplot(ax=axes[0], data = Chunk2, hue = \"recall_dir\", x = \"ipi\", y = \"time\", color='r')\n",
    "sns.lineplot(ax=axes[1], data = Chunk3, hue = \"recall_dir\", x = \"ipi\", y = \"time\", color='b')\n",
    "\n",
    "figure.supylabel(r'Time(s)', x = 0.02, fontsize=20)\n",
    "figure.supxlabel(r'Interpress Intervals', y= -0.05, fontsize=20)\n",
    "    \n",
    "axes[0].title.set_text(r'2-digit Chunking ')\n",
    "axes[1].title.set_text(r'3-digit Chunking ')\n",
    "plt.savefig(r\"C:\\Users\\khash\\OneDrive\\Documents\\GitHub\\WM_chunking\\analysis\\ipi_plot.pdf\", dpi=600)"
   ]
  },
  {
   "cell_type": "code",
   "execution_count": 17,
   "id": "2bad6931",
   "metadata": {},
   "outputs": [
    {
     "name": "stdout",
     "output_type": "stream",
     "text": [
      "(array([18.41713755]), array([2.15772084e-55]), 394.0)\n",
      "(array([17.81685224]), array([8.28441041e-53]), 394.0)\n",
      "(array([14.15150485]), array([2.37462467e-37]), 394.0)\n",
      "(array([16.19876768]), array([6.77476868e-46]), 394.0)\n",
      "(array([8.28080663]), array([5.28552706e-16]), 516.0)\n",
      "(array([9.37046388]), array([1.12313052e-19]), 516.0)\n",
      "(array([8.5060298]), array([9.79022993e-17]), 516.0)\n",
      "(array([11.7619712]), array([9.21241309e-29]), 516.0)\n",
      "(array([17.79715076]), array([1.39523175e-51]), 360.0)\n",
      "(array([16.78376426]), array([2.06554957e-47]), 360.0)\n",
      "(array([10.41936194]), array([1.15795191e-23]), 562.0)\n",
      "(array([11.33437107]), array([2.91265064e-27]), 562.0)\n"
     ]
    }
   ],
   "source": [
    "#Is Chunking Happening\n",
    "#BW 2- digit Chunking\n",
    "print(t(C2_BW_i2, C2_BW_i1, alternative='larger', usevar='pooled', weights=(None, None), value=0))\n",
    "print(t(C2_BW_i2, C2_BW_i3, alternative='larger', usevar='pooled', weights=(None, None), value=0))\n",
    "print(t(C2_BW_i4, C2_BW_i3, alternative='larger', usevar='pooled', weights=(None, None), value=0))\n",
    "print(t(C2_BW_i4, C2_BW_i5, alternative='larger', usevar='pooled', weights=(None, None), value=0))\n",
    "\n",
    "#FW 2- digit Chunking\n",
    "print(t(C2_FW_i2, C2_FW_i1, alternative='larger', usevar='pooled', weights=(None, None), value=0))\n",
    "print(t(C2_FW_i2, C2_FW_i3, alternative='larger', usevar='pooled', weights=(None, None), value=0))\n",
    "print(t(C2_FW_i4, C2_FW_i3, alternative='larger', usevar='pooled', weights=(None, None), value=0))\n",
    "print(t(C2_FW_i4, C2_FW_i5, alternative='larger', usevar='pooled', weights=(None, None), value=0))\n",
    "\n",
    "#BW 3- digit Chunking\n",
    "print(t(C3_BW_i3, C3_BW_i2, alternative='larger', usevar='pooled', weights=(None, None), value=0))\n",
    "print(t(C3_BW_i3, C3_BW_i4, alternative='larger', usevar='pooled', weights=(None, None), value=0))\n",
    "\n",
    "#FW 3- digit Chunking\n",
    "print(t(C3_FW_i3, C3_FW_i2, alternative='larger', usevar='pooled', weights=(None, None), value=0))\n",
    "print(t(C3_FW_i3, C3_FW_i4, alternative='larger', usevar='pooled', weights=(None, None), value=0))\n",
    "\n",
    "#Chunking is Happening"
   ]
  },
  {
   "cell_type": "code",
   "execution_count": 18,
   "id": "60678d9d",
   "metadata": {},
   "outputs": [
    {
     "name": "stdout",
     "output_type": "stream",
     "text": [
      "(array([5.13408736]), array([2.23217434e-07]), 394.0)\n",
      "(array([1.19083953]), array([0.2342641]), 516.0)\n"
     ]
    }
   ],
   "source": [
    "#which model is better?\n",
    "# 2-digit (IPI2 Vs. IPI4)\n",
    "\n",
    "print(t(C2_BW_i2, C2_BW_i4, alternative='larger', usevar='pooled', weights=(None, None), value=0))\n",
    "print(t(C2_FW_i2, C2_FW_i4, alternative='two-sided', usevar='pooled', weights=(None, None), value=0))"
   ]
  },
  {
   "cell_type": "code",
   "execution_count": 19,
   "id": "3933e1d7",
   "metadata": {},
   "outputs": [
    {
     "name": "stdout",
     "output_type": "stream",
     "text": [
      "(array([1.33562813]), array([0.09125732]), 360.0)\n",
      "(array([0.95573182]), array([0.33961866]), 562.0)\n",
      "(array([3.58260983]), array([0.00019348]), 360.0)\n",
      "(array([3.0012678]), array([0.00280794]), 562.0)\n"
     ]
    }
   ],
   "source": [
    "# 3-digit (IPI1 Vs. IPI2)(IPI4 Vs. IPI5)\n",
    "\n",
    "print(t(C3_BW_i1, C3_BW_i2, alternative='larger', usevar='pooled', weights=(None, None), value=0))\n",
    "print(t(C3_FW_i1, C3_FW_i2, alternative='two-sided', usevar='pooled', weights=(None, None), value=0))\n",
    "print(t(C3_BW_i4, C3_BW_i5, alternative='larger', usevar='pooled', weights=(None, None), value=0))\n",
    "print(t(C3_FW_i4, C3_FW_i5, alternative='two-sided', usevar='pooled', weights=(None, None), value=0))"
   ]
  },
  {
   "cell_type": "code",
   "execution_count": 20,
   "id": "6d61045d",
   "metadata": {},
   "outputs": [
    {
     "data": {
      "image/png": "[encoded data removed]",
      "text/plain": [
       "<Figure size 432x288 with 1 Axes>"
      ]
     },
     "metadata": {
      "needs_background": "light"
     },
     "output_type": "display_data"
    }
   ],
   "source": [
    "fig, ax = plt.subplots()\n",
    "sns.lineplot(x=\"chunk\", y=\"MT\", hue=\"recall_dir\", data= df)\n",
    "plt.xlabel(r'Chunking Strategy', fontsize=10)\n",
    "plt.ylabel(r'Mean Movement Time(s)', fontsize=10)\n",
    "plt.ylim(0, 6)\n",
    "plt.xlim(2,3)\n",
    "plt.autoscale(enable=True, axis='x', tight=False)\n",
    "plt.locator_params(axis='x', nbins=1)\n",
    "plt.savefig(r\"C:\\Users\\khash\\OneDrive\\Documents\\GitHub\\WM_chunking\\analysis\\Line_MT.pdf\", dpi=600)"
   ]
  },
  {
   "cell_type": "code",
   "execution_count": 21,
   "id": "f963cc05",
   "metadata": {},
   "outputs": [
    {
     "name": "stdout",
     "output_type": "stream",
     "text": [
      "                     Anova\n",
      "===============================================\n",
      "                 F Value  Num DF  Den DF Pr > F\n",
      "-----------------------------------------------\n",
      "chunk              9.2528 1.0000 14.0000 0.0088\n",
      "recall_dir       138.3384 1.0000 14.0000 0.0000\n",
      "chunk:recall_dir   3.1352 1.0000 14.0000 0.0984\n",
      "===============================================\n",
      "\n"
     ]
    }
   ],
   "source": [
    "aovrm = AnovaRM(df, 'MT', 'subject', within=['chunk', 'recall_dir'], aggregate_func='mean')\n",
    "res = aovrm.fit()\n",
    "print(res)"
   ]
  },
  {
   "cell_type": "code",
   "execution_count": 22,
   "id": "a665dde5",
   "metadata": {},
   "outputs": [
    {
     "name": "stdout",
     "output_type": "stream",
     "text": [
      "(array([16.72051922]), array([2.85232197e-49]), 455.0)\n",
      "(array([15.50027054]), array([6.43933121e-44]), 461.0)\n",
      "(array([2.4694332]), array([0.01397499]), 377.0)\n",
      "(array([1.69566454]), array([0.09052691]), 539.0)\n"
     ]
    }
   ],
   "source": [
    "Chunk2_BW = df.loc[(df['chunk'] == 2) & (df['recall_dir'] == 0) & (df['MT'] != 0), ['MT']]\n",
    "Chunk2_FW = df.loc[(df['chunk'] == 2) & (df['recall_dir'] == 1) & (df['MT'] != 0), ['MT']]\n",
    "Chunk3_BW = df.loc[(df['chunk'] == 3) & (df['recall_dir'] == 0) & (df['MT'] != 0), ['MT']]\n",
    "Chunk3_FW = df.loc[(df['chunk'] == 3) & (df['recall_dir'] == 1) & (df['MT'] != 0), ['MT']]\n",
    "\n",
    "print(t(Chunk2_BW, Chunk2_FW, alternative='two-sided', usevar='pooled', weights=(None, None), value=0))\n",
    "print(t(Chunk3_BW, Chunk3_FW, alternative='two-sided', usevar='pooled', weights=(None, None), value=0))\n",
    "print(t(Chunk2_BW, Chunk3_BW, alternative='two-sided', usevar='pooled', weights=(None, None), value=0))\n",
    "print(t(Chunk2_FW, Chunk3_FW, alternative='two-sided', usevar='pooled', weights=(None, None), value=0))"
   ]
  },
  {
   "cell_type": "code",
   "execution_count": 29,
   "id": "c4d26b8a",
   "metadata": {},
   "outputs": [
    {
     "data": {
      "image/png": "[encoded data removed]",
      "text/plain": [
       "<Figure size 432x288 with 1 Axes>"
      ]
     },
     "metadata": {
      "needs_background": "light"
     },
     "output_type": "display_data"
    }
   ],
   "source": [
    "fig, ax = plt.subplots()\n",
    "sns.barplot(x=\"chunk\", y=\"MT\", hue=\"recall_dir\", data= df)\n",
    "plt.xlabel(r'Chunking Strategy', fontsize=10)\n",
    "plt.ylabel(r'Mean Movement Time(s)', fontsize=10)\n",
    "plt.ylim(0, 6)\n",
    "plt.xlim(2,3)\n",
    "plt.autoscale(enable=True, axis='x', tight=False)\n",
    "plt.locator_params(axis='x', nbins=1)\n",
    "plt.savefig(r\"C:\\Users\\khash\\OneDrive\\Documents\\GitHub\\WM_chunking\\analysis\\1.pdf\", dpi=600)"
   ]
  },
  {
   "cell_type": "code",
   "execution_count": 30,
   "id": "cfbac181",
   "metadata": {},
   "outputs": [
    {
     "data": {
      "image/png": "[encoded data removed]",
      "text/plain": [
       "<Figure size 432x288 with 1 Axes>"
      ]
     },
     "metadata": {
      "needs_background": "light"
     },
     "output_type": "display_data"
    }
   ],
   "source": [
    "sns.barplot(x=\"chunk\", y=\"%_ACC\", hue=\"recall_dir\", data= df_acc)\n",
    "plt.xlabel(r'Chunking Strategy', fontsize=9)\n",
    "plt.ylabel(r'Mean Accuracy(%)', fontsize=9)\n",
    "plt.ylim(75, 100)\n",
    "plt.xlim(2,3)\n",
    "plt.autoscale(enable=True, axis='x', tight=False)\n",
    "plt.locator_params(axis='x', nbins=1)\n",
    "plt.savefig(r\"C:\\Users\\khash\\OneDrive\\Documents\\GitHub\\WM_chunking\\analysis\\2.pdf\", dpi=600)"
   ]
  },
  {
   "cell_type": "code",
   "execution_count": null,
   "id": "821b813a",
   "metadata": {},
   "outputs": [],
   "source": []
  }
 ],
 "metadata": {
  "kernelspec": {
   "display_name": "Python 3 (ipykernel)",
   "language": "python",
   "name": "python3"
  },
  "language_info": {
   "codemirror_mode": {
    "name": "ipython",
    "version": 3
   },
   "file_extension": ".py",
   "mimetype": "text/x-python",
   "name": "python",
   "nbconvert_exporter": "python",
   "pygments_lexer": "ipython3",
   "version": "3.9.5"
  }
 },
 "nbformat": 4,
 "nbformat_minor": 5
}
